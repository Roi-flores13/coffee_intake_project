{
 "cells": [
  {
   "cell_type": "markdown",
   "id": "3aa17c90",
   "metadata": {},
   "source": [
    "# Data Wrangling"
   ]
  },
  {
   "cell_type": "markdown",
   "id": "423b3514",
   "metadata": {},
   "source": [
    "Note: The usage of sklearn libraries will used at the end with a ColumnTransformer()"
   ]
  },
  {
   "cell_type": "code",
   "execution_count": 51,
   "id": "cc514453",
   "metadata": {},
   "outputs": [],
   "source": [
    "import numpy as np\n",
    "import pandas as pd\n",
    "import matplotlib.pyplot as plt"
   ]
  },
  {
   "cell_type": "code",
   "execution_count": 52,
   "id": "13100651",
   "metadata": {},
   "outputs": [
    {
     "data": {
      "text/html": [
       "<div>\n",
       "<style scoped>\n",
       "    .dataframe tbody tr th:only-of-type {\n",
       "        vertical-align: middle;\n",
       "    }\n",
       "\n",
       "    .dataframe tbody tr th {\n",
       "        vertical-align: top;\n",
       "    }\n",
       "\n",
       "    .dataframe thead th {\n",
       "        text-align: right;\n",
       "    }\n",
       "</style>\n",
       "<table border=\"1\" class=\"dataframe\">\n",
       "  <thead>\n",
       "    <tr style=\"text-align: right;\">\n",
       "      <th></th>\n",
       "      <th>Age</th>\n",
       "      <th>Gender</th>\n",
       "      <th>Country</th>\n",
       "      <th>Coffee_Intake</th>\n",
       "      <th>Caffeine_mg</th>\n",
       "      <th>Sleep_Hours</th>\n",
       "      <th>Sleep_Quality</th>\n",
       "      <th>BMI</th>\n",
       "      <th>Heart_Rate</th>\n",
       "      <th>Stress_Level</th>\n",
       "      <th>Physical_Activity_Hours</th>\n",
       "      <th>Health_Issues</th>\n",
       "      <th>Occupation</th>\n",
       "      <th>Smoking</th>\n",
       "      <th>Alcohol_Consumption</th>\n",
       "    </tr>\n",
       "    <tr>\n",
       "      <th>ID</th>\n",
       "      <th></th>\n",
       "      <th></th>\n",
       "      <th></th>\n",
       "      <th></th>\n",
       "      <th></th>\n",
       "      <th></th>\n",
       "      <th></th>\n",
       "      <th></th>\n",
       "      <th></th>\n",
       "      <th></th>\n",
       "      <th></th>\n",
       "      <th></th>\n",
       "      <th></th>\n",
       "      <th></th>\n",
       "      <th></th>\n",
       "    </tr>\n",
       "  </thead>\n",
       "  <tbody>\n",
       "    <tr>\n",
       "      <th>1</th>\n",
       "      <td>40</td>\n",
       "      <td>Male</td>\n",
       "      <td>Germany</td>\n",
       "      <td>3.5</td>\n",
       "      <td>328.1</td>\n",
       "      <td>7.5</td>\n",
       "      <td>Good</td>\n",
       "      <td>24.9</td>\n",
       "      <td>78</td>\n",
       "      <td>Low</td>\n",
       "      <td>14.5</td>\n",
       "      <td>NaN</td>\n",
       "      <td>Other</td>\n",
       "      <td>0</td>\n",
       "      <td>0</td>\n",
       "    </tr>\n",
       "    <tr>\n",
       "      <th>2</th>\n",
       "      <td>33</td>\n",
       "      <td>Male</td>\n",
       "      <td>Germany</td>\n",
       "      <td>1.0</td>\n",
       "      <td>94.1</td>\n",
       "      <td>6.2</td>\n",
       "      <td>Good</td>\n",
       "      <td>20.0</td>\n",
       "      <td>67</td>\n",
       "      <td>Low</td>\n",
       "      <td>11.0</td>\n",
       "      <td>NaN</td>\n",
       "      <td>Service</td>\n",
       "      <td>0</td>\n",
       "      <td>0</td>\n",
       "    </tr>\n",
       "    <tr>\n",
       "      <th>3</th>\n",
       "      <td>42</td>\n",
       "      <td>Male</td>\n",
       "      <td>Brazil</td>\n",
       "      <td>5.3</td>\n",
       "      <td>503.7</td>\n",
       "      <td>5.9</td>\n",
       "      <td>Fair</td>\n",
       "      <td>22.7</td>\n",
       "      <td>59</td>\n",
       "      <td>Medium</td>\n",
       "      <td>11.2</td>\n",
       "      <td>Mild</td>\n",
       "      <td>Office</td>\n",
       "      <td>0</td>\n",
       "      <td>0</td>\n",
       "    </tr>\n",
       "    <tr>\n",
       "      <th>4</th>\n",
       "      <td>53</td>\n",
       "      <td>Male</td>\n",
       "      <td>Germany</td>\n",
       "      <td>2.6</td>\n",
       "      <td>249.2</td>\n",
       "      <td>7.3</td>\n",
       "      <td>Good</td>\n",
       "      <td>24.7</td>\n",
       "      <td>71</td>\n",
       "      <td>Low</td>\n",
       "      <td>6.6</td>\n",
       "      <td>Mild</td>\n",
       "      <td>Other</td>\n",
       "      <td>0</td>\n",
       "      <td>0</td>\n",
       "    </tr>\n",
       "    <tr>\n",
       "      <th>5</th>\n",
       "      <td>32</td>\n",
       "      <td>Female</td>\n",
       "      <td>Spain</td>\n",
       "      <td>3.1</td>\n",
       "      <td>298.0</td>\n",
       "      <td>5.3</td>\n",
       "      <td>Fair</td>\n",
       "      <td>24.1</td>\n",
       "      <td>76</td>\n",
       "      <td>Medium</td>\n",
       "      <td>8.5</td>\n",
       "      <td>Mild</td>\n",
       "      <td>Student</td>\n",
       "      <td>0</td>\n",
       "      <td>1</td>\n",
       "    </tr>\n",
       "  </tbody>\n",
       "</table>\n",
       "</div>"
      ],
      "text/plain": [
       "    Age  Gender  Country  Coffee_Intake  Caffeine_mg  Sleep_Hours  \\\n",
       "ID                                                                  \n",
       "1    40    Male  Germany            3.5        328.1          7.5   \n",
       "2    33    Male  Germany            1.0         94.1          6.2   \n",
       "3    42    Male   Brazil            5.3        503.7          5.9   \n",
       "4    53    Male  Germany            2.6        249.2          7.3   \n",
       "5    32  Female    Spain            3.1        298.0          5.3   \n",
       "\n",
       "   Sleep_Quality   BMI  Heart_Rate Stress_Level  Physical_Activity_Hours  \\\n",
       "ID                                                                         \n",
       "1           Good  24.9          78          Low                     14.5   \n",
       "2           Good  20.0          67          Low                     11.0   \n",
       "3           Fair  22.7          59       Medium                     11.2   \n",
       "4           Good  24.7          71          Low                      6.6   \n",
       "5           Fair  24.1          76       Medium                      8.5   \n",
       "\n",
       "   Health_Issues Occupation  Smoking  Alcohol_Consumption  \n",
       "ID                                                         \n",
       "1            NaN      Other        0                    0  \n",
       "2            NaN    Service        0                    0  \n",
       "3           Mild     Office        0                    0  \n",
       "4           Mild      Other        0                    0  \n",
       "5           Mild    Student        0                    1  "
      ]
     },
     "execution_count": 52,
     "metadata": {},
     "output_type": "execute_result"
    }
   ],
   "source": [
    "df = pd.read_csv(\"../data/raw/synthetic_coffee_health_10000.csv\", index_col=\"ID\") # Data comes with an ID column\n",
    "df.head()"
   ]
  },
  {
   "cell_type": "markdown",
   "id": "f1086c80",
   "metadata": {},
   "source": [
    "## Ordinal Encodings"
   ]
  },
  {
   "cell_type": "markdown",
   "id": "e6be20fd",
   "metadata": {},
   "source": [
    "One of the first things to notice is the variables```Healt_Issues```, ```Stress_Level```, and ```Sleep_Quality``` are ordinal variables (they have an order: i.e. *bad*, *neutral*, *good*). This requires a type of encoding that portrays the hierarchy between variables. This is best done with **Scikit-learn's** ```OrdinalEncoder()``` "
   ]
  },
  {
   "cell_type": "code",
   "execution_count": 53,
   "id": "36c1a976",
   "metadata": {},
   "outputs": [
    {
     "name": "stdout",
     "output_type": "stream",
     "text": [
      "Stress_Level categories: ['Low' 'Medium' 'High']\n",
      "Sleep_Quality categories: ['Good' 'Fair' 'Excellent' 'Poor']\n",
      "Healt_Issues categories: [nan 'Mild' 'Moderate' 'Severe']\n"
     ]
    }
   ],
   "source": [
    "print(f\"Stress_Level categories: {df.Stress_Level.unique()}\") #This the ordinal categories for each variable\n",
    "print(f\"Sleep_Quality categories: {df.Sleep_Quality.unique()}\") \n",
    "print(f\"Healt_Issues categories: {df.Health_Issues.unique()}\") #Includes Nans"
   ]
  },
  {
   "cell_type": "markdown",
   "id": "b0f44d8a",
   "metadata": {},
   "source": [
    "As seen in the cell above, ```Health_Issues``` has missing values, this would usually be a problem, but not in this case. In the dataset's context, a nan in ```Health_Issues``` means that the user doesn't have any health issues. So we can just replace all nans with \"None\" or with the highest hierarchy in the category"
   ]
  },
  {
   "cell_type": "code",
   "execution_count": 54,
   "id": "5797b6db",
   "metadata": {},
   "outputs": [
    {
     "name": "stdout",
     "output_type": "stream",
     "text": [
      "New Health_Issues categories: ['None' 'Mild' 'Moderate' 'Severe']\n"
     ]
    }
   ],
   "source": [
    "df[\"Health_Issues\"] = df[\"Health_Issues\"].fillna(\"None\") #Fills all Nans with None\n",
    "print(f\"New Health_Issues categories: {df.Health_Issues.unique()}\")"
   ]
  },
  {
   "cell_type": "markdown",
   "id": "8b2d9434",
   "metadata": {},
   "source": [
    "## One-Hot encodings"
   ]
  },
  {
   "cell_type": "markdown",
   "id": "a146f8aa",
   "metadata": {},
   "source": [
    "Continuing with preprocessing, we still have some categories that aren't in numeric form."
   ]
  },
  {
   "cell_type": "code",
   "execution_count": 55,
   "id": "1937758c",
   "metadata": {},
   "outputs": [
    {
     "name": "stdout",
     "output_type": "stream",
     "text": [
      "The variables that still aren't in number form are: ['Gender', 'Country', 'Occupation']\n"
     ]
    }
   ],
   "source": [
    "transformed_columns = [\"Stress_Level\", \"Sleep_Quality\", \"Health_Issues\"]\n",
    "\n",
    "object_columns = df.select_dtypes(include=[\"object\"]).columns.to_list()\n",
    "print(f\"The variables that still aren't in number form are: {[column for column in object_columns if column not in transformed_columns]}\")"
   ]
  },
  {
   "cell_type": "code",
   "execution_count": 56,
   "id": "9d6f9a65",
   "metadata": {},
   "outputs": [
    {
     "name": "stdout",
     "output_type": "stream",
     "text": [
      "Gender categories: ['Male' 'Female' 'Other']\n",
      "Country categories: ['Germany' 'Brazil' 'Spain' 'Mexico' 'France' 'Canada' 'UK' 'Switzerland'\n",
      " 'Netherlands' 'Italy' 'China' 'Japan' 'Belgium' 'Finland' 'Australia'\n",
      " 'USA' 'Sweden' 'India' 'Norway' 'South Korea']\n",
      "Occupation categories: ['Other' 'Service' 'Office' 'Student' 'Healthcare']\n"
     ]
    }
   ],
   "source": [
    "print(f\"Gender categories: {df.Gender.unique()}\")\n",
    "print(f\"Country categories: {df.Country.unique()}\")\n",
    "print(f\"Occupation categories: {df.Occupation.unique()}\")"
   ]
  },
  {
   "cell_type": "markdown",
   "id": "1045daea",
   "metadata": {},
   "source": [
    "Since ```Country``` has a lot of categories, we will try grouping countries by the continent to which they belong"
   ]
  },
  {
   "cell_type": "code",
   "execution_count": 57,
   "id": "9093fb28",
   "metadata": {},
   "outputs": [
    {
     "data": {
      "text/plain": [
       "{'Europe': ['Germany',\n",
       "  'Spain',\n",
       "  'France',\n",
       "  'UK',\n",
       "  'Switzerland',\n",
       "  'Netherlands',\n",
       "  'Italy',\n",
       "  'Belgium',\n",
       "  'Finland',\n",
       "  'Sweeden',\n",
       "  'Norway'],\n",
       " 'Asia': ['China', 'Japan', 'South Korea', 'India'],\n",
       " 'America': ['Brazil', 'Mexico', 'Canada', 'USA'],\n",
       " 'Oceania': ['Australia']}"
      ]
     },
     "execution_count": 57,
     "metadata": {},
     "output_type": "execute_result"
    }
   ],
   "source": [
    "countries_to_continents = {\"Europe\": [\"Germany\", \"Spain\", \"France\", \"UK\", \"Switzerland\", \"Netherlands\",\n",
    "            \"Italy\", \"Belgium\", \"Finland\", \"Sweeden\", \"Norway\"],\n",
    " \"Asia\": [\"China\", \"Japan\", \"South Korea\", \"India\"],\n",
    " \"America\": [\"Brazil\", \"Mexico\", \"Canada\", \"USA\"],\n",
    " \"Oceania\": [\"Australia\"]}\n",
    "\n",
    "countries_to_continents"
   ]
  },
  {
   "cell_type": "markdown",
   "id": "58100d1a",
   "metadata": {},
   "source": [
    "After assigning each country to its corresponding continent, we will manually create one-hot vectors using list comprehensions to create new variables in out dataset."
   ]
  },
  {
   "cell_type": "code",
   "execution_count": 58,
   "id": "421ec52c",
   "metadata": {},
   "outputs": [],
   "source": [
    "df[\"is_europe\"] = [1 if country in countries_to_continents[\"Europe\"] else 0\n",
    "                for country in df[\"Country\"]]\n",
    "\n",
    "df[\"is_asia\"] = [1 if country in countries_to_continents[\"Asia\"] else 0\n",
    "               for country in df[\"Country\"]]\n",
    "\n",
    "df[\"is_america\"] = [1 if country in countries_to_continents[\"America\"] else 0\n",
    "                  for country in df[\"Country\"]]\n",
    "\n",
    "df[\"is_oceania\"] = [1 if country in countries_to_continents[\"Oceania\"] else 0\n",
    "                  for country in df[\"Country\"]]"
   ]
  },
  {
   "cell_type": "code",
   "execution_count": 59,
   "id": "f5c6c858",
   "metadata": {},
   "outputs": [],
   "source": [
    "country_df = df.drop(\"Country\", axis=1) #Drop the no-longer useful \"Country\" column"
   ]
  },
  {
   "cell_type": "code",
   "execution_count": 60,
   "id": "621da768",
   "metadata": {},
   "outputs": [
    {
     "data": {
      "text/html": [
       "<div>\n",
       "<style scoped>\n",
       "    .dataframe tbody tr th:only-of-type {\n",
       "        vertical-align: middle;\n",
       "    }\n",
       "\n",
       "    .dataframe tbody tr th {\n",
       "        vertical-align: top;\n",
       "    }\n",
       "\n",
       "    .dataframe thead th {\n",
       "        text-align: right;\n",
       "    }\n",
       "</style>\n",
       "<table border=\"1\" class=\"dataframe\">\n",
       "  <thead>\n",
       "    <tr style=\"text-align: right;\">\n",
       "      <th></th>\n",
       "      <th>is_america</th>\n",
       "      <th>is_asia</th>\n",
       "      <th>is_europe</th>\n",
       "      <th>is_oceania</th>\n",
       "    </tr>\n",
       "    <tr>\n",
       "      <th>ID</th>\n",
       "      <th></th>\n",
       "      <th></th>\n",
       "      <th></th>\n",
       "      <th></th>\n",
       "    </tr>\n",
       "  </thead>\n",
       "  <tbody>\n",
       "    <tr>\n",
       "      <th>1</th>\n",
       "      <td>0</td>\n",
       "      <td>0</td>\n",
       "      <td>1</td>\n",
       "      <td>0</td>\n",
       "    </tr>\n",
       "    <tr>\n",
       "      <th>2</th>\n",
       "      <td>0</td>\n",
       "      <td>0</td>\n",
       "      <td>1</td>\n",
       "      <td>0</td>\n",
       "    </tr>\n",
       "    <tr>\n",
       "      <th>3</th>\n",
       "      <td>1</td>\n",
       "      <td>0</td>\n",
       "      <td>0</td>\n",
       "      <td>0</td>\n",
       "    </tr>\n",
       "    <tr>\n",
       "      <th>4</th>\n",
       "      <td>0</td>\n",
       "      <td>0</td>\n",
       "      <td>1</td>\n",
       "      <td>0</td>\n",
       "    </tr>\n",
       "    <tr>\n",
       "      <th>5</th>\n",
       "      <td>0</td>\n",
       "      <td>0</td>\n",
       "      <td>1</td>\n",
       "      <td>0</td>\n",
       "    </tr>\n",
       "  </tbody>\n",
       "</table>\n",
       "</div>"
      ],
      "text/plain": [
       "    is_america  is_asia  is_europe  is_oceania\n",
       "ID                                            \n",
       "1            0        0          1           0\n",
       "2            0        0          1           0\n",
       "3            1        0          0           0\n",
       "4            0        0          1           0\n",
       "5            0        0          1           0"
      ]
     },
     "execution_count": 60,
     "metadata": {},
     "output_type": "execute_result"
    }
   ],
   "source": [
    "country_df[[\"is_america\", \"is_asia\", \"is_europe\", \"is_oceania\"]].head()"
   ]
  },
  {
   "cell_type": "markdown",
   "id": "c8ba2d61",
   "metadata": {},
   "source": [
    "For ```Gender``` and ```Occupation``` a simple one-hot encoding will do"
   ]
  },
  {
   "cell_type": "code",
   "execution_count": 61,
   "id": "5bccbd87",
   "metadata": {},
   "outputs": [],
   "source": [
    "# The dtype of those columns can be changed to bool to optimize storage and byte-usage \n",
    "country_df[\"Smoking\"] = country_df[\"Smoking\"].astype(bool)\n",
    "country_df[\"Alcohol_Consumption\"] = country_df[\"Alcohol_Consumption\"].astype(bool)"
   ]
  },
  {
   "cell_type": "markdown",
   "id": "f8f2b04e",
   "metadata": {},
   "source": [
    "After all this encoding, all of our variables are encoded into numeric values, which allows our ML model to train on the data. But there is still some more preprocessing to do."
   ]
  },
  {
   "cell_type": "markdown",
   "id": "6756781d",
   "metadata": {},
   "source": [
    "## Scaling Numeric Variables"
   ]
  },
  {
   "cell_type": "code",
   "execution_count": 62,
   "id": "74cbeaf4",
   "metadata": {},
   "outputs": [
    {
     "data": {
      "image/png": "[encoded data removed]",
      "text/plain": [
       "<Figure size 1800x1500 with 7 Axes>"
      ]
     },
     "metadata": {},
     "output_type": "display_data"
    }
   ],
   "source": [
    "import matplotlib.pyplot as plt\n",
    "import seaborn as sns\n",
    "\n",
    "# 1. Define the continuous and relevant integer columns for boxplots.\n",
    "# Boxplots are generally not useful for ID, OHE (0/1), or nominal categorical columns.\n",
    "numeric_cols = [\n",
    "    'Age', \n",
    "    'Coffee_Intake', \n",
    "    'Caffeine_mg', \n",
    "    'Sleep_Hours', \n",
    "    'BMI', \n",
    "    'Heart_Rate', \n",
    "    'Physical_Activity_Hours'\n",
    "]\n",
    "\n",
    "# 2. Set up the figure and axes for the subplots\n",
    "n_cols = 3 \n",
    "n_rows = (len(numeric_cols) + n_cols - 1) // n_cols \n",
    "fig, axes = plt.subplots(n_rows, n_cols, figsize=(18, 5 * n_rows))\n",
    "axes = axes.flatten() # Flatten the array for easy iteration\n",
    "\n",
    "# 3. Generate a boxplot for each selected numerical column\n",
    "for i, col in enumerate(numeric_cols):\n",
    "    sns.boxplot(y=country_df[col], ax=axes[i])\n",
    "    axes[i].set_title(f'Boxplot of {col}', fontsize=14)\n",
    "    axes[i].set_ylabel(col, fontsize=12)\n",
    "\n",
    "# 4. Hide any unused subplots\n",
    "for j in range(len(numeric_cols), len(axes)):\n",
    "    fig.delaxes(axes[j])\n",
    "\n",
    "plt.tight_layout()\n",
    "plt.show() # In your local environment, this will display the plots."
   ]
  },
  {
   "cell_type": "markdown",
   "id": "a815e5ae",
   "metadata": {},
   "source": [
    "since most of our remainding variables has outliers, our best option for scaling is a ```RobustScaler()``` since it uses IQ ranges to scale each value with the following formula:\n",
    "$$\n",
    "X_\\text{scaled} = \\frac{x_i - Q_1(x)}{Q_3 - Q_1}\n",
    "$$"
   ]
  },
  {
   "cell_type": "markdown",
   "id": "ea8bcd02",
   "metadata": {},
   "source": [
    "## Data Processing Pipeline"
   ]
  },
  {
   "cell_type": "markdown",
   "id": "6aab3ba6",
   "metadata": {},
   "source": [
    "After analying all of the available columns, our dataset is ready to be transformed to a ML friendly format. ```ColumnTranformer()``` lets us automatize the preprocessing process, and further on implement this process in a fully developed ML Pipeline"
   ]
  },
  {
   "cell_type": "code",
   "execution_count": null,
   "id": "5b0f52b3",
   "metadata": {},
   "outputs": [],
   "source": [
    "from sklearn.preprocessing import RobustScaler, OneHotEncoder, OrdinalEncoder\n",
    "from sklearn.compose import ColumnTransformer\n",
    "\n",
    "numeric_cols = ['Age','Coffee_Intake', 'Caffeine_mg', 'Sleep_Hours', 'BMI', 'Heart_Rate', 'Physical_Activity_Hours'] # Variables that have to be scaled\n",
    "\n",
    "ordinal_categories = [\"Stress_Level\", \"Sleep_Quality\", \"Health_Issues\"] # Variables that have a hierarchical order\n",
    "\n",
    "one_hot_categories = [\"Gender\", \"Occupation\"] # Variables that just need one-hot encoding\n",
    "\n",
    "passthorugh = [\"Smoking\",\"Alcohol_Consumption\", \"is_asia\", \"is_america\", \"is_oceania\", \"is_europe\"] # Variables that are already fine as they are\n",
    "\n",
    "custom_categories = [[\"High\", \"Medium\", \"Low\"], # Stress Level hierarchical order\n",
    "                     [\"Poor\", \"Fair\", \"Good\", \"Excellent\"], # Sleep Quality hierarchical order\n",
    "                     [\"Severe\", \"Moderate\", \"Mild\", \"None\"]] # Health Issues hierarchical order\n",
    "\n",
    "\n",
    "ct = ColumnTransformer([\n",
    "    (\"robust_scaler\", RobustScaler(), numeric_cols), # scaler\n",
    "    (\"ordinal_encoding\", OrdinalEncoder(categories=custom_categories), ordinal_categories), #ordinal encoding\n",
    "    (\"onehot_encoding\", OneHotEncoder(handle_unknown=\"ignore\", sparse_output=False), one_hot_categories), #one hot encoding\n",
    "    (\"passthrough\", \"passthrough\", passthorugh) #ignore\n",
    "],\n",
    "remainder=\"passthrough\")\n",
    "\n",
    "transformed_data = ct.fit_transform(country_df)\n",
    "feature_names = ct.get_feature_names_out() #extract feature names"
   ]
  },
  {
   "cell_type": "code",
   "execution_count": 69,
   "id": "6dcee089",
   "metadata": {},
   "outputs": [
    {
     "data": {
      "text/html": [
       "<div>\n",
       "<style scoped>\n",
       "    .dataframe tbody tr th:only-of-type {\n",
       "        vertical-align: middle;\n",
       "    }\n",
       "\n",
       "    .dataframe tbody tr th {\n",
       "        vertical-align: top;\n",
       "    }\n",
       "\n",
       "    .dataframe thead th {\n",
       "        text-align: right;\n",
       "    }\n",
       "</style>\n",
       "<table border=\"1\" class=\"dataframe\">\n",
       "  <thead>\n",
       "    <tr style=\"text-align: right;\">\n",
       "      <th></th>\n",
       "      <th>robust_scaler__Age</th>\n",
       "      <th>robust_scaler__Coffee_Intake</th>\n",
       "      <th>robust_scaler__Caffeine_mg</th>\n",
       "      <th>robust_scaler__Sleep_Hours</th>\n",
       "      <th>robust_scaler__BMI</th>\n",
       "      <th>robust_scaler__Heart_Rate</th>\n",
       "      <th>robust_scaler__Physical_Activity_Hours</th>\n",
       "      <th>ordinal_encoding__Stress_Level</th>\n",
       "      <th>ordinal_encoding__Sleep_Quality</th>\n",
       "      <th>ordinal_encoding__Health_Issues</th>\n",
       "      <th>...</th>\n",
       "      <th>onehot_encoding__Occupation_Office</th>\n",
       "      <th>onehot_encoding__Occupation_Other</th>\n",
       "      <th>onehot_encoding__Occupation_Service</th>\n",
       "      <th>onehot_encoding__Occupation_Student</th>\n",
       "      <th>passthrough__Smoking</th>\n",
       "      <th>passthrough__Alcohol_Consumption</th>\n",
       "      <th>passthrough__is_asia</th>\n",
       "      <th>passthrough__is_america</th>\n",
       "      <th>passthrough__is_oceania</th>\n",
       "      <th>passthrough__is_europe</th>\n",
       "    </tr>\n",
       "  </thead>\n",
       "  <tbody>\n",
       "    <tr>\n",
       "      <th>0</th>\n",
       "      <td>0.352941</td>\n",
       "      <td>0.5</td>\n",
       "      <td>0.479627</td>\n",
       "      <td>0.529412</td>\n",
       "      <td>0.169811</td>\n",
       "      <td>0.538462</td>\n",
       "      <td>0.933333</td>\n",
       "      <td>2.0</td>\n",
       "      <td>2.0</td>\n",
       "      <td>3.0</td>\n",
       "      <td>...</td>\n",
       "      <td>0.0</td>\n",
       "      <td>1.0</td>\n",
       "      <td>0.0</td>\n",
       "      <td>0.0</td>\n",
       "      <td>False</td>\n",
       "      <td>False</td>\n",
       "      <td>0</td>\n",
       "      <td>0</td>\n",
       "      <td>0</td>\n",
       "      <td>1</td>\n",
       "    </tr>\n",
       "    <tr>\n",
       "      <th>1</th>\n",
       "      <td>-0.058824</td>\n",
       "      <td>-0.75</td>\n",
       "      <td>-0.731083</td>\n",
       "      <td>-0.235294</td>\n",
       "      <td>-0.754717</td>\n",
       "      <td>-0.307692</td>\n",
       "      <td>0.466667</td>\n",
       "      <td>2.0</td>\n",
       "      <td>2.0</td>\n",
       "      <td>3.0</td>\n",
       "      <td>...</td>\n",
       "      <td>0.0</td>\n",
       "      <td>0.0</td>\n",
       "      <td>1.0</td>\n",
       "      <td>0.0</td>\n",
       "      <td>False</td>\n",
       "      <td>False</td>\n",
       "      <td>0</td>\n",
       "      <td>0</td>\n",
       "      <td>0</td>\n",
       "      <td>1</td>\n",
       "    </tr>\n",
       "    <tr>\n",
       "      <th>2</th>\n",
       "      <td>0.470588</td>\n",
       "      <td>1.4</td>\n",
       "      <td>1.388177</td>\n",
       "      <td>-0.411765</td>\n",
       "      <td>-0.245283</td>\n",
       "      <td>-0.923077</td>\n",
       "      <td>0.493333</td>\n",
       "      <td>1.0</td>\n",
       "      <td>1.0</td>\n",
       "      <td>2.0</td>\n",
       "      <td>...</td>\n",
       "      <td>1.0</td>\n",
       "      <td>0.0</td>\n",
       "      <td>0.0</td>\n",
       "      <td>0.0</td>\n",
       "      <td>False</td>\n",
       "      <td>False</td>\n",
       "      <td>0</td>\n",
       "      <td>1</td>\n",
       "      <td>0</td>\n",
       "      <td>0</td>\n",
       "    </tr>\n",
       "    <tr>\n",
       "      <th>3</th>\n",
       "      <td>1.117647</td>\n",
       "      <td>0.05</td>\n",
       "      <td>0.071401</td>\n",
       "      <td>0.411765</td>\n",
       "      <td>0.132075</td>\n",
       "      <td>0.0</td>\n",
       "      <td>-0.12</td>\n",
       "      <td>2.0</td>\n",
       "      <td>2.0</td>\n",
       "      <td>2.0</td>\n",
       "      <td>...</td>\n",
       "      <td>0.0</td>\n",
       "      <td>1.0</td>\n",
       "      <td>0.0</td>\n",
       "      <td>0.0</td>\n",
       "      <td>False</td>\n",
       "      <td>False</td>\n",
       "      <td>0</td>\n",
       "      <td>0</td>\n",
       "      <td>0</td>\n",
       "      <td>1</td>\n",
       "    </tr>\n",
       "    <tr>\n",
       "      <th>4</th>\n",
       "      <td>-0.117647</td>\n",
       "      <td>0.3</td>\n",
       "      <td>0.323891</td>\n",
       "      <td>-0.764706</td>\n",
       "      <td>0.018868</td>\n",
       "      <td>0.384615</td>\n",
       "      <td>0.133333</td>\n",
       "      <td>1.0</td>\n",
       "      <td>1.0</td>\n",
       "      <td>2.0</td>\n",
       "      <td>...</td>\n",
       "      <td>0.0</td>\n",
       "      <td>0.0</td>\n",
       "      <td>0.0</td>\n",
       "      <td>1.0</td>\n",
       "      <td>False</td>\n",
       "      <td>True</td>\n",
       "      <td>0</td>\n",
       "      <td>0</td>\n",
       "      <td>0</td>\n",
       "      <td>1</td>\n",
       "    </tr>\n",
       "  </tbody>\n",
       "</table>\n",
       "<p>5 rows × 24 columns</p>\n",
       "</div>"
      ],
      "text/plain": [
       "  robust_scaler__Age robust_scaler__Coffee_Intake robust_scaler__Caffeine_mg  \\\n",
       "0           0.352941                          0.5                   0.479627   \n",
       "1          -0.058824                        -0.75                  -0.731083   \n",
       "2           0.470588                          1.4                   1.388177   \n",
       "3           1.117647                         0.05                   0.071401   \n",
       "4          -0.117647                          0.3                   0.323891   \n",
       "\n",
       "  robust_scaler__Sleep_Hours robust_scaler__BMI robust_scaler__Heart_Rate  \\\n",
       "0                   0.529412           0.169811                  0.538462   \n",
       "1                  -0.235294          -0.754717                 -0.307692   \n",
       "2                  -0.411765          -0.245283                 -0.923077   \n",
       "3                   0.411765           0.132075                       0.0   \n",
       "4                  -0.764706           0.018868                  0.384615   \n",
       "\n",
       "  robust_scaler__Physical_Activity_Hours ordinal_encoding__Stress_Level  \\\n",
       "0                               0.933333                            2.0   \n",
       "1                               0.466667                            2.0   \n",
       "2                               0.493333                            1.0   \n",
       "3                                  -0.12                            2.0   \n",
       "4                               0.133333                            1.0   \n",
       "\n",
       "  ordinal_encoding__Sleep_Quality ordinal_encoding__Health_Issues  ...  \\\n",
       "0                             2.0                             3.0  ...   \n",
       "1                             2.0                             3.0  ...   \n",
       "2                             1.0                             2.0  ...   \n",
       "3                             2.0                             2.0  ...   \n",
       "4                             1.0                             2.0  ...   \n",
       "\n",
       "  onehot_encoding__Occupation_Office onehot_encoding__Occupation_Other  \\\n",
       "0                                0.0                               1.0   \n",
       "1                                0.0                               0.0   \n",
       "2                                1.0                               0.0   \n",
       "3                                0.0                               1.0   \n",
       "4                                0.0                               0.0   \n",
       "\n",
       "  onehot_encoding__Occupation_Service onehot_encoding__Occupation_Student  \\\n",
       "0                                 0.0                                 0.0   \n",
       "1                                 1.0                                 0.0   \n",
       "2                                 0.0                                 0.0   \n",
       "3                                 0.0                                 0.0   \n",
       "4                                 0.0                                 1.0   \n",
       "\n",
       "  passthrough__Smoking passthrough__Alcohol_Consumption passthrough__is_asia  \\\n",
       "0                False                            False                    0   \n",
       "1                False                            False                    0   \n",
       "2                False                            False                    0   \n",
       "3                False                            False                    0   \n",
       "4                False                             True                    0   \n",
       "\n",
       "  passthrough__is_america passthrough__is_oceania passthrough__is_europe  \n",
       "0                       0                       0                      1  \n",
       "1                       0                       0                      1  \n",
       "2                       1                       0                      0  \n",
       "3                       0                       0                      1  \n",
       "4                       0                       0                      1  \n",
       "\n",
       "[5 rows x 24 columns]"
      ]
     },
     "execution_count": 69,
     "metadata": {},
     "output_type": "execute_result"
    }
   ],
   "source": [
    "processed_df = pd.DataFrame(data=transformed_data, columns=feature_names) #This is the final dataframe with all processed variables\n",
    "processed_df.head()"
   ]
  },
  {
   "cell_type": "code",
   "execution_count": 72,
   "id": "ac8f1f08",
   "metadata": {},
   "outputs": [],
   "source": [
    "processed_df.to_csv(\"../data/processed/processed_coffee_data.csv\", index=True)"
   ]
  }
 ],
 "metadata": {
  "kernelspec": {
   "display_name": "coffee-intake-project",
   "language": "python",
   "name": "python3"
  },
  "language_info": {
   "codemirror_mode": {
    "name": "ipython",
    "version": 3
   },
   "file_extension": ".py",
   "mimetype": "text/x-python",
   "name": "python",
   "nbconvert_exporter": "python",
   "pygments_lexer": "ipython3",
   "version": "3.13.7"
  }
 },
 "nbformat": 4,
 "nbformat_minor": 5
}
