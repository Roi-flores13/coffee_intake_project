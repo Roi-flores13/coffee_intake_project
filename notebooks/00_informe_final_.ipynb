{
 "cells": [
  {
   "cell_type": "markdown",
   "id": "87574310",
   "metadata": {},
   "source": [
    "# 🎓 1st Project — **1st Delivery**\n",
    "\n",
    "\n",
    "### Teacher\n",
    "- Cristian Camilo Zapata Zuluaga\n",
    "\n",
    "### Students\n",
    "- Roi Jared Flores Garza Stone\n",
    "- Ivan Morales\n",
    "\n",
    "September 30th, 2025, ITESO"
   ]
  },
  {
   "cell_type": "markdown",
   "id": "963f5166",
   "metadata": {},
   "source": [
    "# Introduction\n",
    "\n",
    "Wellness is in fashion. Studies show that younger generations are consuming less alcohol, smoking less, and are more concerned about achieving a state of wellness in their lives. That's why it's important for us to recognize how different factors, such as coffee intake, affect sleep quality in humans.\n"
   ]
  },
  {
   "cell_type": "markdown",
   "id": "03c1190f",
   "metadata": {},
   "source": [
    "# Records\n",
    "\n",
    "There are several works about this topic, we found a paper specially interesting that states the following.\n",
    "\n",
    "*Daily caffeine consumption among healthcare professionals may have a positive effect on sleep duration, but does not have a significant impact on overall sleep quality. (Arslan et al., 2025)*\n",
    "\n",
    "Contrary to the main idea we have regarding coffee consumption, the study shows that this could be related to an increase in sleep duration crucial factor in the sleep quality in the dataset."
   ]
  },
  {
   "cell_type": "markdown",
   "id": "98bad941",
   "metadata": {},
   "source": [
    "# Objectives\n",
    "\n",
    "- Understand the effects of the different variables such as the consumption of alcohol and cigarrettes in the sleeping quality of an individual.\n",
    "\n",
    "- As a coffee drinker comprehend how this delicious drink affects sleeping and how much is enough when talking about caffeine ingestion.\n",
    "\n",
    "- Put into practice data engineering and analysis techniques while working with GitHub.\n",
    "\n"
   ]
  },
  {
   "cell_type": "markdown",
   "id": "39eae2d6",
   "metadata": {},
   "source": [
    "# Problem Statement\n"
   ]
  },
  {
   "cell_type": "markdown",
   "id": "97fa0b04",
   "metadata": {},
   "source": [
    "# EDA"
   ]
  },
  {
   "cell_type": "markdown",
   "id": "c6bd0262",
   "metadata": {},
   "source": [
    "# Data Wrangling"
   ]
  },
  {
   "cell_type": "markdown",
   "id": "a17ca344",
   "metadata": {},
   "source": [
    "The Data Wrangling consisted of 4 main parts:\n",
    "\n",
    "1. Numeric Scaling: The numeric features that we worked on included many outliers, do to this scenario, the best scaler for this type of data is a robust scaler, which scales each instance based on the columns interquartile range. This helps the data avoid any type of skewness caused by the outliers.\n",
    "\n",
    "2. Ordinal Encoding: This type of encoding consists of encoding variables based on the hierarchical placement. Few of our variables had this type of structure, thus ordinal encoding was up for the task.\n",
    "\n",
    "3. One-Hot Encoding: Other variables had no hierarchical order, thus One-Hot Encoding was the best approach for this task. One-Hot creates a binary column for each category of the orignal column, marking 1 when an instance includes that category and 0 when it doesn't.\n",
    "\n",
    "4. Country grouping by continents: In the country variable, many countries existed, thus the approach we decided to encapsulate each country belonging to its continent and then create a one-hot column for each contient.\n",
    "\n",
    "After, all changes were encapsulated on a column transformer which sequentially does all the transformations without the need to run every cell. The processed data was loaded to \"data/processed/processed_coffee_data.csv\""
   ]
  },
  {
   "cell_type": "markdown",
   "id": "a2a7672a",
   "metadata": {},
   "source": [
    "# Conclusions"
   ]
  },
  {
   "cell_type": "markdown",
   "id": "8aa37220",
   "metadata": {},
   "source": [
    "# References\n",
    "\n",
    " - 2 easy, accurate ways to measure your heart rate. (2025). Mayo Clinic. https://www.mayoclinic.org/healthy-lifestyle/fitness/expert-answers/heart-rate/faq-20057979#:~:text=A%20normal%20resting%20heart%20rate%20for%20adults%20ranges%20from%2060,to%2040%20beats%20per%20minute.\n",
    " - Are there more men or more women in the world? (2020). Ined - Institut National d’Études Démographiques. https://www.ined.fr/en/everything_about_population/demographic-facts-sheets/faq/more-men-or-women-in-the-world/\n",
    " - Arslan, S., Kevser TARI Selcuk, Kübra Betül Kirbiyik, & Nuh Şerbetçi̇. (2025). The relationship between caffeine consumption and self-reported sleep quality among healthcare professionals. Advances in Integrative Medicine, 12(4), 100553–100553. https://doi.org/10.1016/j.aimed.2025.100553\n",
    "\n",
    "‌\n",
    "\n",
    "‌\n",
    "\n",
    "‌"
   ]
  }
 ],
 "metadata": {
  "language_info": {
   "name": "python"
  }
 },
 "nbformat": 4,
 "nbformat_minor": 5
}
